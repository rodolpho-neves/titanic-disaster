{
 "cells": [
  {
   "cell_type": "markdown",
   "metadata": {},
   "source": [
    "### Notebook de teste para API Titanic"
   ]
  },
  {
   "cell_type": "code",
   "execution_count": 106,
   "metadata": {},
   "outputs": [
    {
     "name": "stdout",
     "output_type": "stream",
     "text": [
      "<h1>Bem-vindo à API de predição do Titanic Survival!</h1>\n",
      "    <p>Este servidor foi desenvolvido e mantido pelos pesquisadores do</p> \n",
      "    <h3>Núcleo Interdisciplinar de Análise de Sinais (NIAS)</h3>\n",
      "    <h3>Universidade Federal de Viçosa (UFV)</h3>\n",
      "   Age Cabin Embarked   Fare      Name  Parch  Pclass   Sex  SibSp  Survived  \\\n",
      "0   22              S   7.25  John Doe      0       3  male      1         0   \n",
      "1   35              S  17.25  John Doe      1       1  male      2         0   \n",
      "\n",
      "      Ticket  \n",
      "0  A/5 21171  \n",
      "1  A/5 21171  \n"
     ]
    }
   ],
   "source": [
    "import requests\n",
    "import pandas as pd\n",
    "import numpy as np\n",
    "\n",
    "titanic_api_address = \"http://127.0.0.1:5000\"\n",
    "\n",
    "# Testando a API\n",
    "response = requests.get(titanic_api_address)\n",
    "print(response.text)    \n",
    "\n",
    "dados = [{\"Pclass\": 3,\n",
    "        \"Name\": \"John Doe\",\n",
    "        \"Sex\": \"male\",\n",
    "        \"Age\": 22,\n",
    "        \"SibSp\": 1,\n",
    "        \"Parch\": 0,\n",
    "        \"Ticket\": \"A/5 21171\",\n",
    "        \"Fare\": 7.25,\n",
    "        \"Cabin\": \"\",\n",
    "        \"Embarked\": \"S\"}, \n",
    "        {\"Pclass\": 1,\n",
    "        \"Name\": \"John Doe\",\n",
    "        \"Sex\": \"male\",\n",
    "        \"Age\": 35,\n",
    "        \"SibSp\": 2,\n",
    "        \"Parch\": 1,\n",
    "        \"Ticket\": \"A/5 21171\",\n",
    "        \"Fare\": 17.25,\n",
    "        \"Cabin\": \"\",\n",
    "        \"Embarked\": \"S\"}]\n",
    "\n",
    "\n",
    "# Testando a API com um pedido\n",
    "resposta = True\n",
    "while resposta:\n",
    "    if input(\"Enviar pedido para API (s/n)? \") != 'n':\n",
    "        resposta = True\n",
    "\n",
    "        try:\n",
    "            response = requests.post(titanic_api_address + '/predict', json=dados)\n",
    "        except:\n",
    "            response = requests.get(titanic_api_address)\n",
    "            if response.status_code == 200:\n",
    "                print(\"API está funcionando corretamente, mas teve problema no envio do POST!\")\n",
    "            \n",
    "            else: \n",
    "                print(\"A API não está funcionando!\")\n",
    "        else:\n",
    "            print(pd.DataFrame(response.json()))\n",
    "    else:\n",
    "        resposta = False"
   ]
  }
 ],
 "metadata": {
  "kernelspec": {
   "display_name": "env_titanic",
   "language": "python",
   "name": "python3"
  },
  "language_info": {
   "codemirror_mode": {
    "name": "ipython",
    "version": 3
   },
   "file_extension": ".py",
   "mimetype": "text/x-python",
   "name": "python",
   "nbconvert_exporter": "python",
   "pygments_lexer": "ipython3",
   "version": "3.9.6"
  }
 },
 "nbformat": 4,
 "nbformat_minor": 2
}
